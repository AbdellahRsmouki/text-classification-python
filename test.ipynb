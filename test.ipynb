{
  "cells": [
    {
      "cell_type": "markdown",
      "metadata": {
        "colab_type": "text",
        "id": "pNqVQ7MU7jD8"
      },
      "source": [
        "**Import the Libraries**"
      ]
    },
    {
      "cell_type": "code",
      "execution_count": 1,
      "metadata": {
        "colab": {
          "base_uri": "https://localhost:8080/",
          "height": 35
        },
        "colab_type": "code",
        "id": "RvkRtHt64AWv",
        "outputId": "74bec8c7-97f8-41b6-e1ec-7240d18dd92c"
      },
      "outputs": [
        {
          "name": "stderr",
          "output_type": "stream",
          "text": [
            "2021-12-03 10:18:18.834951: W tensorflow/stream_executor/platform/default/dso_loader.cc:64] Could not load dynamic library 'libcudart.so.11.0'; dlerror: libcudart.so.11.0: cannot open shared object file: No such file or directory\n",
            "2021-12-03 10:18:18.834988: I tensorflow/stream_executor/cuda/cudart_stub.cc:29] Ignore above cudart dlerror if you do not have a GPU set up on your machine.\n"
          ]
        },
        {
          "name": "stdout",
          "output_type": "stream",
          "text": [
            "2.7.0\n"
          ]
        }
      ],
      "source": [
        "import csv\n",
        "import tensorflow as tf\n",
        "import numpy as np\n",
        "from tensorflow.keras.preprocessing.text import Tokenizer\n",
        "from tensorflow.keras.preprocessing.sequence import pad_sequences\n",
        "from tensorflow.keras.models import Sequential\n",
        "from tensorflow.keras.layers import Dense, Flatten, LSTM, Dropout, Activation, Embedding, Bidirectional\n",
        "print(tf.__version__)"
      ]
    },
    {
      "cell_type": "markdown",
      "metadata": {
        "colab_type": "text",
        "id": "4QVrj-F-7msu"
      },
      "source": [
        "**Get the Data**"
      ]
    },
    {
      "cell_type": "markdown",
      "metadata": {
        "colab_type": "text",
        "id": "oMQWdiqa7ram"
      },
      "source": [
        "**Import NTLK Library**"
      ]
    },
    {
      "cell_type": "code",
      "execution_count": 2,
      "metadata": {
        "colab": {
          "base_uri": "https://localhost:8080/",
          "height": 52
        },
        "colab_type": "code",
        "id": "APvYgINr4jSC",
        "outputId": "7f4b1b69-0082-4767-f98a-7e95ec4ca4db"
      },
      "outputs": [
        {
          "name": "stderr",
          "output_type": "stream",
          "text": [
            "[nltk_data] Downloading package stopwords to /home/abdel/nltk_data...\n",
            "[nltk_data]   Package stopwords is already up-to-date!\n"
          ]
        }
      ],
      "source": [
        "import nltk\n",
        "nltk.download('stopwords')\n",
        "from nltk.corpus import stopwords\n",
        "STOPWORDS = set(stopwords.words('english'))"
      ]
    },
    {
      "cell_type": "markdown",
      "metadata": {
        "colab_type": "text",
        "id": "aRTmfoUx7wsW"
      },
      "source": [
        "**Set the Hyper-Parameters**"
      ]
    },
    {
      "cell_type": "code",
      "execution_count": 3,
      "metadata": {
        "colab": {},
        "colab_type": "code",
        "id": "CPUGweix4l7V"
      },
      "outputs": [],
      "source": [
        "vocab_size = 50000 \n",
        "embedding_dim = 64\n",
        "max_length = 200\n",
        "trunc_type = 'post'\n",
        "padding_type = 'post'\n",
        "oov_tok = '<OOV>' #OOV = Out of Vocabulary\n",
        "training_portion = .6\n",
        "validation_portion = .2\n",
        "test_portion = .2"
      ]
    },
    {
      "cell_type": "markdown",
      "metadata": {
        "colab_type": "text",
        "id": "w1dObaAI8JxW"
      },
      "source": [
        "**Populate List and Remove the Stopwords**"
      ]
    },
    {
      "cell_type": "code",
      "execution_count": 25,
      "metadata": {
        "colab": {
          "base_uri": "https://localhost:8080/",
          "height": 52
        },
        "colab_type": "code",
        "id": "PLgOIeRu4qhW",
        "outputId": "15fd1497-e373-4371-e0e9-a938e52a5c41"
      },
      "outputs": [],
      "source": [
        "articles = []\n",
        "labels = []\n",
        "\n",
        "with open(\"train.csv\", 'r') as csvfile:\n",
        "    reader = csv.reader(csvfile, delimiter=',')\n",
        "    next(reader)\n",
        "    for row in reader:\n",
        "        labels.append(''.join(e for e in row[3] if e.isalnum()))\n",
        "        title = row[1]\n",
        "        description = row[2]\n",
        "        article = str(title) + ' ' + str(description) \n",
        "        for word in STOPWORDS:\n",
        "            token = ' ' + word + ' '\n",
        "            article = article.replace(token, ' ')\n",
        "            article = article.replace(' ', ' ')\n",
        "        articles.append(article)"
      ]
    },
    {
      "cell_type": "code",
      "execution_count": 5,
      "metadata": {
        "colab": {
          "base_uri": "https://localhost:8080/",
          "height": 35
        },
        "colab_type": "code",
        "id": "UO21rpb-4vVS",
        "outputId": "bc10666e-d7a1-4dd1-e411-d138d14f8c8f"
      },
      "outputs": [
        {
          "data": {
            "text/plain": [
              "['Arts,', 'Cell']"
            ]
          },
          "execution_count": 5,
          "metadata": {},
          "output_type": "execute_result"
        }
      ],
      "source": [
        "labels[:2]"
      ]
    },
    {
      "cell_type": "code",
      "execution_count": 6,
      "metadata": {
        "colab": {
          "base_uri": "https://localhost:8080/",
          "height": 72
        },
        "colab_type": "code",
        "id": "zRX_sx6U4x66",
        "outputId": "49404700-32ec-4ee8-a2f6-31c983a8ed65"
      },
      "outputs": [
        {
          "data": {
            "text/plain": [
              "['TUNGSTEN SOLDER PICK WITH HANDLESolder Pick picking molten solder making jewelry',\n",
              " 'Write Right 98167 Screen Protector Sony T615CWe screen. And need protect screens expensive little gadgetry. Our pack (12) clear screen protectors, generous 2-15/16\" x 2-1/4\" x .004\" thick. They protect scratches reduce glare. Made Sony Cli, easy cut fit anything screen want protect. Made USA Fellowes.']"
            ]
          },
          "execution_count": 6,
          "metadata": {},
          "output_type": "execute_result"
        }
      ],
      "source": [
        "articles[:2]"
      ]
    },
    {
      "cell_type": "markdown",
      "metadata": {
        "colab_type": "text",
        "id": "Zm77Egm58gOW"
      },
      "source": [
        "**Create Training and Validation Set**"
      ]
    },
    {
      "cell_type": "code",
      "execution_count": 26,
      "metadata": {
        "colab": {
          "base_uri": "https://localhost:8080/",
          "height": 106
        },
        "colab_type": "code",
        "id": "Lm9tBphR4zjQ",
        "outputId": "bcbbbd42-fcda-4661-859a-e230cb1695f1"
      },
      "outputs": [
        {
          "name": "stdout",
          "output_type": "stream",
          "text": [
            "train_size 36983\n",
            "train_articles 36983\n",
            "train_labels 36983\n",
            "validation_articles 9246\n",
            "validation_labels 9246\n"
          ]
        }
      ],
      "source": [
        "train_size = int(len(articles) * training_portion)\n",
        "validation_size = int(len(articles) * validation_portion)\n",
        "\n",
        "train_articles = articles[0: train_size]\n",
        "train_labels = labels[0: train_size]\n",
        "\n",
        "validation_articles = articles[train_size:train_size + validation_size]\n",
        "validation_labels = labels[train_size:train_size + validation_size]\n",
        "\n",
        "test_articles = articles[train_size + validation_size:]\n",
        "test_labels = labels[train_size + validation_size:]\n",
        "\n",
        "print(\"train_size\",  train_size)\n",
        "print(f\"train_articles {len(train_articles)}\")\n",
        "print(\"train_labels\", len(train_labels))\n",
        "print(\"validation_articles\", len(validation_articles))\n",
        "print(\"validation_labels\", len(validation_labels))"
      ]
    },
    {
      "cell_type": "markdown",
      "metadata": {
        "colab_type": "text",
        "id": "uisJPHDu8mKf"
      },
      "source": [
        "**Tokenization on \"train_articles\"**"
      ]
    },
    {
      "cell_type": "code",
      "execution_count": 8,
      "metadata": {
        "colab": {},
        "colab_type": "code",
        "id": "5R1kzSWq43-f"
      },
      "outputs": [],
      "source": [
        "tokenizer = Tokenizer(num_words = vocab_size, oov_token=oov_tok)\n",
        "tokenizer.fit_on_texts(train_articles)\n",
        "word_index = tokenizer.word_index"
      ]
    },
    {
      "cell_type": "markdown",
      "metadata": {
        "colab_type": "text",
        "id": "_lrq0a-X8uZM"
      },
      "source": [
        "**Convert to Sequences on \"train_articles\"**"
      ]
    },
    {
      "cell_type": "code",
      "execution_count": 9,
      "metadata": {
        "colab": {},
        "colab_type": "code",
        "id": "dvUh2Iyt4_je"
      },
      "outputs": [],
      "source": [
        "train_sequences = tokenizer.texts_to_sequences(train_articles)"
      ]
    },
    {
      "cell_type": "code",
      "execution_count": 10,
      "metadata": {
        "colab": {
          "base_uri": "https://localhost:8080/",
          "height": 72
        },
        "colab_type": "code",
        "id": "C6wBHZlt5Bmo",
        "outputId": "cb15d8df-d5ef-4f91-d5d9-01c00bf86972"
      },
      "outputs": [
        {
          "name": "stdout",
          "output_type": "stream",
          "text": [
            "[23571, 657, 19682, 3808, 2, 28, 591, 834, 819, 657, 6360, 693, 2972, 164, 303, 3808, 1899, 44, 2143, 561, 9699, 28, 267, 164, 4156, 561, 9963, 28, 94, 1590, 562, 1284, 28, 1937, 5472, 74, 562, 861, 6640, 2, 811, 164, 4269, 12, 28, 212, 72, 328, 10545, 28, 785, 244, 600, 28, 2972, 164, 5891, 653, 96, 2446, 8646, 75, 13415, 28, 8647, 1681, 11988, 1322, 8827, 13416, 12407, 226, 13417, 226, 13418, 13419, 12408, 1104, 12409, 1212, 13420, 13421, 8647, 454, 12903, 146, 8827, 12904, 13422, 1035, 13423, 1681, 13424, 13985, 94, 13425, 1774, 13986, 1035, 13987, 13426, 25, 57, 10, 9205, 25, 57, 164, 1545, 1233, 7268, 3947, 1125, 1754, 574, 338, 7681, 25, 965]\n"
          ]
        },
        {
          "data": {
            "text/plain": [
              "(None, 119)"
            ]
          },
          "execution_count": 10,
          "metadata": {},
          "output_type": "execute_result"
        }
      ],
      "source": [
        "print(train_sequences[10]), len(train_sequences[10])"
      ]
    },
    {
      "cell_type": "code",
      "execution_count": 11,
      "metadata": {
        "colab": {
          "base_uri": "https://localhost:8080/",
          "height": 72
        },
        "colab_type": "code",
        "id": "8a19bNfA5C-v",
        "outputId": "09808984-cd7e-4347-be09-8fa7c541aa83"
      },
      "outputs": [
        {
          "name": "stdout",
          "output_type": "stream",
          "text": [
            "[3648, 12406, 1575, 58, 1, 1575, 6448, 21353, 12406, 275, 1475]\n"
          ]
        },
        {
          "data": {
            "text/plain": [
              "(None, 11)"
            ]
          },
          "execution_count": 11,
          "metadata": {},
          "output_type": "execute_result"
        }
      ],
      "source": [
        "print(train_sequences[0]), len(train_sequences[0])"
      ]
    },
    {
      "cell_type": "markdown",
      "metadata": {
        "colab_type": "text",
        "id": "Scuv0luz9DI6"
      },
      "source": [
        "**Padding and Truncating on \"train_sequences\"**"
      ]
    },
    {
      "cell_type": "code",
      "execution_count": 12,
      "metadata": {
        "colab": {},
        "colab_type": "code",
        "id": "39gWKCmd5EZH"
      },
      "outputs": [],
      "source": [
        "train_padded = pad_sequences(train_sequences, maxlen=max_length, padding=padding_type, truncating=trunc_type)"
      ]
    },
    {
      "cell_type": "code",
      "execution_count": 13,
      "metadata": {
        "colab": {
          "base_uri": "https://localhost:8080/",
          "height": 355
        },
        "colab_type": "code",
        "id": "NqDAqI7f5GIf",
        "outputId": "cf16ffd2-5ad4-40b9-f37f-efaf0b14dc6a"
      },
      "outputs": [
        {
          "data": {
            "text/plain": [
              "array([23571,   657, 19682,  3808,     2,    28,   591,   834,   819,\n",
              "         657,  6360,   693,  2972,   164,   303,  3808,  1899,    44,\n",
              "        2143,   561,  9699,    28,   267,   164,  4156,   561,  9963,\n",
              "          28,    94,  1590,   562,  1284,    28,  1937,  5472,    74,\n",
              "         562,   861,  6640,     2,   811,   164,  4269,    12,    28,\n",
              "         212,    72,   328, 10545,    28,   785,   244,   600,    28,\n",
              "        2972,   164,  5891,   653,    96,  2446,  8646,    75, 13415,\n",
              "          28,  8647,  1681, 11988,  1322,  8827, 13416, 12407,   226,\n",
              "       13417,   226, 13418, 13419, 12408,  1104, 12409,  1212, 13420,\n",
              "       13421,  8647,   454, 12903,   146,  8827, 12904, 13422,  1035,\n",
              "       13423,  1681, 13424, 13985,    94, 13425,  1774, 13986,  1035,\n",
              "       13987, 13426,    25,    57,    10,  9205,    25,    57,   164,\n",
              "        1545,  1233,  7268,  3947,  1125,  1754,   574,   338,  7681,\n",
              "          25,   965,     0,     0,     0,     0,     0,     0,     0,\n",
              "           0,     0,     0,     0,     0,     0,     0,     0,     0,\n",
              "           0,     0,     0,     0,     0,     0,     0,     0,     0,\n",
              "           0,     0,     0,     0,     0,     0,     0,     0,     0,\n",
              "           0,     0,     0,     0,     0,     0,     0,     0,     0,\n",
              "           0,     0,     0,     0,     0,     0,     0,     0,     0,\n",
              "           0,     0,     0,     0,     0,     0,     0,     0,     0,\n",
              "           0,     0,     0,     0,     0,     0,     0,     0,     0,\n",
              "           0,     0,     0,     0,     0,     0,     0,     0,     0,\n",
              "           0,     0], dtype=int32)"
            ]
          },
          "execution_count": 13,
          "metadata": {},
          "output_type": "execute_result"
        }
      ],
      "source": [
        "train_padded[10]"
      ]
    },
    {
      "cell_type": "code",
      "execution_count": 14,
      "metadata": {
        "colab": {
          "base_uri": "https://localhost:8080/",
          "height": 124
        },
        "colab_type": "code",
        "id": "Chjy00K15HmI",
        "outputId": "020027bb-d90d-4aa4-8463-5984419bfcc5"
      },
      "outputs": [
        {
          "name": "stdout",
          "output_type": "stream",
          "text": [
            "len train_sequnces[0]:  11\n",
            "len train_padded[0]:  200\n",
            "len train_sequences[1]:  50\n",
            "len train_padded[1]:  200\n",
            "len train_sequences[10]:  119\n",
            "len train_padded[10]:  200\n"
          ]
        }
      ],
      "source": [
        "print(\"len train_sequnces[0]: \", len(train_sequences[0]))\n",
        "print(\"len train_padded[0]: \", len(train_padded[0]))\n",
        "\n",
        "print(\"len train_sequences[1]: \", len(train_sequences[1]))\n",
        "print(\"len train_padded[1]: \", len(train_padded[1]))\n",
        "\n",
        "print(\"len train_sequences[10]: \", len(train_sequences[10]))\n",
        "print(\"len train_padded[10]: \", len(train_padded[10]))"
      ]
    },
    {
      "cell_type": "markdown",
      "metadata": {
        "colab_type": "text",
        "id": "8ek_UbKQ9Ll3"
      },
      "source": [
        "**Convert to Sequence, Padding & Truncating on \"validation_articles\"**"
      ]
    },
    {
      "cell_type": "code",
      "execution_count": 15,
      "metadata": {
        "colab": {
          "base_uri": "https://localhost:8080/",
          "height": 52
        },
        "colab_type": "code",
        "id": "KzUg6aCF5Q9P",
        "outputId": "1915dc05-0645-4a12-86b2-1e6c3b5cf0b9"
      },
      "outputs": [
        {
          "name": "stdout",
          "output_type": "stream",
          "text": [
            "9246\n",
            "(9246, 200)\n"
          ]
        }
      ],
      "source": [
        "validation_sequences = tokenizer.texts_to_sequences(validation_articles)\n",
        "validation_padded = pad_sequences(validation_sequences, maxlen=max_length, padding=padding_type, truncating=trunc_type)\n",
        "\n",
        "print(len(validation_sequences))\n",
        "print(validation_padded.shape)"
      ]
    },
    {
      "cell_type": "markdown",
      "metadata": {
        "colab_type": "text",
        "id": "b8Ieaw-R9kUT"
      },
      "source": [
        "**Labels**"
      ]
    },
    {
      "cell_type": "code",
      "execution_count": 16,
      "metadata": {
        "colab": {
          "base_uri": "https://localhost:8080/",
          "height": 35
        },
        "colab_type": "code",
        "id": "G98piAM55Ub4",
        "outputId": "b28a3869-f25f-4893-d236-f6c58bdba728"
      },
      "outputs": [
        {
          "name": "stdout",
          "output_type": "stream",
          "text": [
            "{'Grocery', 'Patio,', 'Office', 'Arts,', 'Toys', 'Tools', 'Electronics', 'Automotive', 'Health', 'Industrial', 'Beauty', 'Appliances', 'Musical', 'Clothing,', 'Sports', 'All', 'Pet', 'Cell', 'Baby'}\n"
          ]
        }
      ],
      "source": [
        "print(set(labels))"
      ]
    },
    {
      "cell_type": "markdown",
      "metadata": {
        "colab_type": "text",
        "id": "1oKbyEJn9pPD"
      },
      "source": [
        "**Tokenize and Convert to Sequence on \"train_labels\" and \"validation_labels\"**"
      ]
    },
    {
      "cell_type": "code",
      "execution_count": 17,
      "metadata": {
        "colab": {},
        "colab_type": "code",
        "id": "MbMgdUmr5WTZ"
      },
      "outputs": [],
      "source": [
        "label_tokenizer = Tokenizer()\n",
        "label_tokenizer.fit_on_texts(labels)\n",
        "\n",
        "training_label_seq = np.array(label_tokenizer.texts_to_sequences(train_labels))\n",
        "validation_label_seq = np.array(label_tokenizer.texts_to_sequences(validation_labels))"
      ]
    },
    {
      "cell_type": "code",
      "execution_count": 18,
      "metadata": {
        "colab": {
          "base_uri": "https://localhost:8080/",
          "height": 35
        },
        "colab_type": "code",
        "id": "OBaWnkeH5X4Y",
        "outputId": "c9758225-2c8a-4163-9403-01be565f0176"
      },
      "outputs": [
        {
          "data": {
            "text/plain": [
              "{'baby': 1,\n",
              " 'all': 2,\n",
              " 'arts': 3,\n",
              " 'beauty': 4,\n",
              " 'sports': 5,\n",
              " 'grocery': 6,\n",
              " 'cell': 7,\n",
              " 'clothing': 8,\n",
              " 'tools': 9,\n",
              " 'health': 10,\n",
              " 'patio': 11,\n",
              " 'electronics': 12,\n",
              " 'automotive': 13,\n",
              " 'toys': 14,\n",
              " 'office': 15,\n",
              " 'appliances': 16,\n",
              " 'musical': 17,\n",
              " 'industrial': 18,\n",
              " 'pet': 19}"
            ]
          },
          "execution_count": 18,
          "metadata": {},
          "output_type": "execute_result"
        }
      ],
      "source": [
        "#labels = ['sport', 'bussiness', 'politics', 'tech', 'entertainment']\n",
        "label_tokenizer.word_index"
      ]
    },
    {
      "cell_type": "code",
      "execution_count": 19,
      "metadata": {
        "colab": {
          "base_uri": "https://localhost:8080/",
          "height": 177
        },
        "colab_type": "code",
        "id": "33ZGkuAL5ZZg",
        "outputId": "bee04236-4ff5-4b64-f31f-2379f9b197bb"
      },
      "outputs": [
        {
          "name": "stdout",
          "output_type": "stream",
          "text": [
            "[3]\n",
            "[7]\n",
            "[8]\n",
            "(36983, 1)\n",
            "-------------\n",
            "[1]\n",
            "[5]\n",
            "[3]\n",
            "(9246, 1)\n"
          ]
        }
      ],
      "source": [
        "print(training_label_seq[0])\n",
        "print(training_label_seq[1])\n",
        "print(training_label_seq[2])\n",
        "print(training_label_seq.shape)\n",
        "print('-------------')\n",
        "print(validation_label_seq[0])\n",
        "print(validation_label_seq[1])\n",
        "print(validation_label_seq[2])\n",
        "print(validation_label_seq.shape)"
      ]
    },
    {
      "cell_type": "markdown",
      "metadata": {
        "colab_type": "text",
        "id": "HNLSHt2491ea"
      },
      "source": [
        "**Create Model**"
      ]
    },
    {
      "cell_type": "code",
      "execution_count": 20,
      "metadata": {
        "colab": {
          "base_uri": "https://localhost:8080/",
          "height": 301
        },
        "colab_type": "code",
        "id": "yiSH1ZV55eUi",
        "outputId": "d5c1cdd7-766a-4a73-9ae9-e9adbc87e95f"
      },
      "outputs": [
        {
          "name": "stderr",
          "output_type": "stream",
          "text": [
            "2021-12-03 10:18:45.374527: W tensorflow/stream_executor/platform/default/dso_loader.cc:64] Could not load dynamic library 'libcuda.so.1'; dlerror: libcuda.so.1: cannot open shared object file: No such file or directory\n",
            "2021-12-03 10:18:45.374594: W tensorflow/stream_executor/cuda/cuda_driver.cc:269] failed call to cuInit: UNKNOWN ERROR (303)\n",
            "2021-12-03 10:18:45.374676: I tensorflow/stream_executor/cuda/cuda_diagnostics.cc:156] kernel driver does not appear to be running on this host (abdel-EliteBook): /proc/driver/nvidia/version does not exist\n"
          ]
        },
        {
          "name": "stdout",
          "output_type": "stream",
          "text": [
            "Model: \"sequential\"\n",
            "_________________________________________________________________\n",
            " Layer (type)                Output Shape              Param #   \n",
            "=================================================================\n",
            " embedding (Embedding)       (None, None, 64)          3200000   \n",
            "                                                                 \n",
            " dropout (Dropout)           (None, None, 64)          0         \n",
            "                                                                 \n",
            " bidirectional (Bidirectiona  (None, 128)              66048     \n",
            " l)                                                              \n",
            "                                                                 \n",
            " dense (Dense)               (None, 20)                2580      \n",
            "                                                                 \n",
            "=================================================================\n",
            "Total params: 3,268,628\n",
            "Trainable params: 3,268,628\n",
            "Non-trainable params: 0\n",
            "_________________________________________________________________\n"
          ]
        }
      ],
      "source": [
        "model = Sequential()\n",
        "\n",
        "model.add(Embedding(vocab_size, embedding_dim))\n",
        "model.add(Dropout(0.5))\n",
        "model.add(Bidirectional(LSTM(embedding_dim)))\n",
        "model.add(Dense(20, activation='softmax'))\n",
        "\n",
        "model.summary()"
      ]
    },
    {
      "cell_type": "markdown",
      "metadata": {
        "colab_type": "text",
        "id": "o-1BGHvB9_iq"
      },
      "source": [
        "**Compile the Model**"
      ]
    },
    {
      "cell_type": "code",
      "execution_count": 21,
      "metadata": {
        "colab": {},
        "colab_type": "code",
        "id": "oXd2O7c65gaY"
      },
      "outputs": [],
      "source": [
        "opt = tf.keras.optimizers.Adam(learning_rate=0.001, decay=1e-6)\n",
        "model.compile(\n",
        "    loss='sparse_categorical_crossentropy',\n",
        "    optimizer=opt,\n",
        "    metrics=['accuracy'],\n",
        ")"
      ]
    },
    {
      "cell_type": "markdown",
      "metadata": {
        "colab_type": "text",
        "id": "aKWiZXKh-EE3"
      },
      "source": [
        "**Train the Model**"
      ]
    },
    {
      "cell_type": "code",
      "execution_count": 22,
      "metadata": {
        "colab": {
          "base_uri": "https://localhost:8080/",
          "height": 372
        },
        "colab_type": "code",
        "id": "oedluf3j5kVo",
        "outputId": "0662998e-09dc-407c-cb70-6a6641b5ea33"
      },
      "outputs": [
        {
          "name": "stdout",
          "output_type": "stream",
          "text": [
            "Epoch 1/10\n",
            "1156/1156 - 362s - loss: 1.7484 - accuracy: 0.4650 - val_loss: 0.9305 - val_accuracy: 0.7295 - 362s/epoch - 313ms/step\n",
            "Epoch 2/10\n",
            "1156/1156 - 304s - loss: 0.6423 - accuracy: 0.8131 - val_loss: 0.6755 - val_accuracy: 0.8039 - 304s/epoch - 263ms/step\n",
            "Epoch 3/10\n",
            "1156/1156 - 289s - loss: 0.3670 - accuracy: 0.8931 - val_loss: 0.6573 - val_accuracy: 0.8142 - 289s/epoch - 250ms/step\n",
            "Epoch 4/10\n",
            "1156/1156 - 303s - loss: 0.2377 - accuracy: 0.9305 - val_loss: 0.6844 - val_accuracy: 0.8226 - 303s/epoch - 262ms/step\n",
            "Epoch 5/10\n",
            "1156/1156 - 325s - loss: 0.1667 - accuracy: 0.9510 - val_loss: 0.7176 - val_accuracy: 0.8168 - 325s/epoch - 281ms/step\n",
            "Epoch 6/10\n",
            "1156/1156 - 350s - loss: 0.1237 - accuracy: 0.9630 - val_loss: 0.7878 - val_accuracy: 0.8153 - 350s/epoch - 302ms/step\n",
            "Epoch 7/10\n",
            "1156/1156 - 308s - loss: 0.0983 - accuracy: 0.9703 - val_loss: 0.8020 - val_accuracy: 0.8197 - 308s/epoch - 266ms/step\n",
            "Epoch 8/10\n",
            "1156/1156 - 345s - loss: 0.0798 - accuracy: 0.9763 - val_loss: 0.8445 - val_accuracy: 0.8211 - 345s/epoch - 298ms/step\n",
            "Epoch 9/10\n",
            "1156/1156 - 370s - loss: 0.0627 - accuracy: 0.9814 - val_loss: 0.8816 - val_accuracy: 0.8193 - 370s/epoch - 320ms/step\n",
            "Epoch 10/10\n",
            "1156/1156 - 360s - loss: 0.0538 - accuracy: 0.9839 - val_loss: 0.9141 - val_accuracy: 0.8179 - 360s/epoch - 312ms/step\n"
          ]
        }
      ],
      "source": [
        "num_epochs = 10\n",
        "history = model.fit(train_padded, training_label_seq, epochs=num_epochs, validation_data=(validation_padded, validation_label_seq), verbose=2)"
      ]
    },
    {
      "cell_type": "markdown",
      "metadata": {
        "colab_type": "text",
        "id": "T4bmOixZ-INI"
      },
      "source": [
        "**Plot the Graph**"
      ]
    },
    {
      "cell_type": "code",
      "execution_count": 23,
      "metadata": {
        "colab": {
          "base_uri": "https://localhost:8080/",
          "height": 541
        },
        "colab_type": "code",
        "id": "-U5WYk6D5lzh",
        "outputId": "2b1c99ec-d5af-41f8-c550-e9cd27d1e320"
      },
      "outputs": [
        {
          "data": {
            "image/png": "[encoded data removed]",
            "text/plain": [
              "<Figure size 432x288 with 1 Axes>"
            ]
          },
          "metadata": {
            "needs_background": "light"
          },
          "output_type": "display_data"
        },
        {
          "data": {
            "image/png": "[encoded data removed]",
            "text/plain": [
              "<Figure size 432x288 with 1 Axes>"
            ]
          },
          "metadata": {
            "needs_background": "light"
          },
          "output_type": "display_data"
        }
      ],
      "source": [
        "import matplotlib.pyplot as plt\n",
        "\n",
        "def plot_graphs(history, string):\n",
        "  plt.plot(history.history[string])\n",
        "  plt.plot(history.history['val_'+string])\n",
        "  plt.xlabel(\"Epochs\")\n",
        "  plt.ylabel(string)\n",
        "  plt.legend([string, 'val_'+string])\n",
        "  plt.show()\n",
        "  \n",
        "plot_graphs(history, \"accuracy\")\n",
        "plot_graphs(history, \"loss\")"
      ]
    },
    {
      "cell_type": "code",
      "execution_count": null,
      "metadata": {},
      "outputs": [],
      "source": [
        "del training_label_seq\n",
        "del train_articles\n",
        "del train_labels\n",
        "del validation_label_seq\n",
        "del validation_articles\n",
        "del validation_labels"
      ]
    },
    {
      "cell_type": "markdown",
      "metadata": {
        "colab_type": "text",
        "id": "UhAi891w-Lz1"
      },
      "source": [
        "**Prediction**"
      ]
    },
    {
      "cell_type": "code",
      "execution_count": 24,
      "metadata": {
        "colab": {
          "base_uri": "https://localhost:8080/",
          "height": 88
        },
        "colab_type": "code",
        "id": "peOgMHvP6am1",
        "outputId": "f72bcafa-e432-4631-a9c9-4a8891a4dc5b"
      },
      "outputs": [
        {
          "name": "stdout",
          "output_type": "stream",
          "text": [
            "[[5.7693262e-05 3.7586443e-02 6.2497348e-02 1.3601665e-01 2.6105348e-02\n",
            "  5.2308756e-01 2.6870063e-02 7.1393852e-03 1.8175086e-02 2.5403646e-03\n",
            "  8.1109509e-02 1.7914830e-02 7.6651125e-04 7.5074746e-03 1.3195322e-02\n",
            "  1.0116055e-02 1.5959614e-03 2.6719309e-03 1.9800246e-02 5.2462276e-03]]\n",
            "5\n",
            "sports\n"
          ]
        }
      ],
      "source": [
        "txt = [\"Replacement Battery Kit for TOSHIBA E310/E355/E3XX\"]\n",
        "# [\"High Speed Steel. Plug Style (most common hand tap). Ground Thread.\"]\n",
        "# [\"SuperNova is a unique biostimulant that will enhance any stage of a plants life. SuperNova is highly concentrated, requiring less product to obtain the maximum positive results.\"]\n",
        "\n",
        "seq = tokenizer.texts_to_sequences(txt)\n",
        "padded = pad_sequences(seq, maxlen=max_length)\n",
        "pred = model.predict(padded)\n",
        "labels  = ['baby', 'all', 'arts', 'beauty', 'sports', 'grocery', 'cell', 'clothing',\n",
        " 'tools', 'health', 'patio', 'electronics',\n",
        " 'automotive', 'toys', 'office', 'appliances', 'musical', 'industrial', 'pet']\n",
        "print(pred)\n",
        "print(np.argmax(pred))\n",
        "print(labels[np.argmax(pred)-1])"
      ]
    },
    {
      "cell_type": "code",
      "execution_count": null,
      "metadata": {
        "colab": {},
        "colab_type": "code",
        "id": "_rC9Hld96bB7"
      },
      "outputs": [],
      "source": []
    }
  ],
  "metadata": {
    "accelerator": "GPU",
    "colab": {
      "collapsed_sections": [],
      "name": "Multiclass-LSTM.ipynb",
      "provenance": []
    },
    "kernelspec": {
      "display_name": "Python 3",
      "name": "python3"
    },
    "language_info": {
      "codemirror_mode": {
        "name": "ipython",
        "version": 3
      },
      "file_extension": ".py",
      "mimetype": "text/x-python",
      "name": "python",
      "nbconvert_exporter": "python",
      "pygments_lexer": "ipython3",
      "version": "3.8.10"
    }
  },
  "nbformat": 4,
  "nbformat_minor": 0
}
